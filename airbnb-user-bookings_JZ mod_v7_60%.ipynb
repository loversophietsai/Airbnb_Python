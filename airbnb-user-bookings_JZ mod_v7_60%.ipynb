{
 "cells": [
  {
   "cell_type": "code",
   "execution_count": 1,
   "metadata": {},
   "outputs": [
    {
     "name": "stdout",
     "output_type": "stream",
     "text": [
      "Requirement already satisfied: xgboost in c:\\users\\sophie\\anaconda3\\lib\\site-packages (0.90)\n",
      "Requirement already satisfied: numpy in c:\\users\\sophie\\anaconda3\\lib\\site-packages (from xgboost) (1.15.4)\n",
      "Requirement already satisfied: scipy in c:\\users\\sophie\\anaconda3\\lib\\site-packages (from xgboost) (1.1.0)\n"
     ]
    }
   ],
   "source": [
    "# Imports\n",
    "\n",
    "# pandas\n",
    "import pandas as pd\n",
    "from pandas import Series,DataFrame\n",
    "from ipykernel import kernelapp as app\n",
    "import datetime\n",
    "\n",
    "\n",
    "# numpy, matplotlib, seaborn\n",
    "import numpy as np\n",
    "import matplotlib.pyplot as plt\n",
    "import seaborn as sns\n",
    "sns.set_style('whitegrid')\n",
    "%matplotlib inline\n",
    "!pip install xgboost\n",
    "\n",
    "# machine learning\n",
    "from sklearn.linear_model import LogisticRegression\n",
    "from sklearn.svm import SVC, LinearSVC\n",
    "from sklearn.ensemble import RandomForestClassifier\n",
    "from sklearn.neighbors import KNeighborsClassifier\n",
    "from sklearn.naive_bayes import GaussianNB\n",
    "from sklearn.model_selection import cross_validate\n",
    "import xgboost as xgb"
   ]
  },
  {
   "cell_type": "code",
   "execution_count": 2,
   "metadata": {},
   "outputs": [
    {
     "name": "stdout",
     "output_type": "stream",
     "text": [
      "           id date_account_created  timestamp_first_active date_first_booking  \\\n",
      "0  gxn3p5htnn              6/28/10            2.009030e+13                NaN   \n",
      "1  820tgsjxq7              5/25/11            2.009050e+13                NaN   \n",
      "2  4ft3gnwmtx              9/28/10            2.009060e+13             8/2/10   \n",
      "3  bjjt8pjhuk              12/5/11            2.009100e+13             9/8/12   \n",
      "4  87mebub9p4              9/14/10            2.009120e+13            2/18/10   \n",
      "\n",
      "      gender   age signup_method  signup_flow language affiliate_channel  \\\n",
      "0  -unknown-   NaN      facebook            0       en            direct   \n",
      "1       MALE  38.0      facebook            0       en               seo   \n",
      "2     FEMALE  56.0         basic            3       en            direct   \n",
      "3     FEMALE  42.0      facebook            0       en            direct   \n",
      "4  -unknown-  41.0         basic            0       en            direct   \n",
      "\n",
      "  affiliate_provider first_affiliate_tracked signup_app first_device_type  \\\n",
      "0             direct               untracked        Web       Mac Desktop   \n",
      "1             google               untracked        Web       Mac Desktop   \n",
      "2             direct               untracked        Web   Windows Desktop   \n",
      "3             direct               untracked        Web       Mac Desktop   \n",
      "4             direct               untracked        Web       Mac Desktop   \n",
      "\n",
      "  first_browser country_destination  \n",
      "0        Chrome                 NDF  \n",
      "1        Chrome                 NDF  \n",
      "2            IE                  US  \n",
      "3       Firefox               other  \n",
      "4        Chrome                  US  \n",
      "----------------------------\n"
     ]
    }
   ],
   "source": [
    "# get airbnb & test csv files as a DataFrame\n",
    "airbnb_df  = pd.read_csv('train_users_2.csv')\n",
    "#test_df    = pd.read_csv('test_users.csv')\n",
    "\n",
    "# preview the data\n",
    "print(airbnb_df.head())\n",
    "print(\"----------------------------\")\n",
    "#print(test_df.head ())"
   ]
  },
  {
   "cell_type": "code",
   "execution_count": 3,
   "metadata": {},
   "outputs": [
    {
     "name": "stdout",
     "output_type": "stream",
     "text": [
      "<class 'pandas.core.frame.DataFrame'>\n",
      "RangeIndex: 213451 entries, 0 to 213450\n",
      "Data columns (total 16 columns):\n",
      "id                         213451 non-null object\n",
      "date_account_created       213451 non-null object\n",
      "timestamp_first_active     213451 non-null float64\n",
      "date_first_booking         88908 non-null object\n",
      "gender                     213451 non-null object\n",
      "age                        125461 non-null float64\n",
      "signup_method              213451 non-null object\n",
      "signup_flow                213451 non-null int64\n",
      "language                   213451 non-null object\n",
      "affiliate_channel          213451 non-null object\n",
      "affiliate_provider         213451 non-null object\n",
      "first_affiliate_tracked    207386 non-null object\n",
      "signup_app                 213451 non-null object\n",
      "first_device_type          213451 non-null object\n",
      "first_browser              213451 non-null object\n",
      "country_destination        213451 non-null object\n",
      "dtypes: float64(2), int64(1), object(13)\n",
      "memory usage: 26.1+ MB\n",
      "----------------------------\n"
     ]
    }
   ],
   "source": [
    "airbnb_df.info()\n",
    "print(\"----------------------------\")\n",
    "#test_df.info()"
   ]
  },
  {
   "cell_type": "code",
   "execution_count": 4,
   "metadata": {},
   "outputs": [
    {
     "name": "stdout",
     "output_type": "stream",
     "text": [
      "           id date_first_booking     gender   age signup_method  signup_flow  \\\n",
      "0  gxn3p5htnn                NaN  -unknown-   NaN      facebook            0   \n",
      "1  820tgsjxq7                NaN       MALE  38.0      facebook            0   \n",
      "2  4ft3gnwmtx             8/2/10     FEMALE  56.0         basic            3   \n",
      "3  bjjt8pjhuk             9/8/12     FEMALE  42.0      facebook            0   \n",
      "4  87mebub9p4            2/18/10  -unknown-  41.0         basic            0   \n",
      "\n",
      "  language affiliate_channel affiliate_provider first_affiliate_tracked  \\\n",
      "0       en            direct             direct               untracked   \n",
      "1       en               seo             google               untracked   \n",
      "2       en            direct             direct               untracked   \n",
      "3       en            direct             direct               untracked   \n",
      "4       en            direct             direct               untracked   \n",
      "\n",
      "  signup_app first_device_type first_browser country_destination  \n",
      "0        Web       Mac Desktop        Chrome                 NDF  \n",
      "1        Web       Mac Desktop        Chrome                 NDF  \n",
      "2        Web   Windows Desktop            IE                  US  \n",
      "3        Web       Mac Desktop       Firefox               other  \n",
      "4        Web       Mac Desktop        Chrome                  US  \n",
      "----------------------------\n"
     ]
    }
   ],
   "source": [
    "# drop unnecessary columns, these columns won't be useful in analysis and prediction\n",
    "airbnb_df  = airbnb_df.drop(['date_account_created','timestamp_first_active'], axis=1)\n",
    "#test_df    = test_df.drop(['date_account_created','timestamp_first_active'], axis=1)\n",
    "print(airbnb_df.head())\n",
    "print(\"----------------------------\")\n",
    "#print(test_df.head())"
   ]
  },
  {
   "cell_type": "code",
   "execution_count": 5,
   "metadata": {},
   "outputs": [
    {
     "data": {
      "text/plain": [
       "<matplotlib.axes._subplots.AxesSubplot at 0x1f77ff43e10>"
      ]
     },
     "execution_count": 5,
     "metadata": {},
     "output_type": "execute_result"
    },
    {
     "data": {
      "image/png": "[encoded data removed]",
      "text/plain": [
       "<Figure size 1080x360 with 1 Axes>"
      ]
     },
     "metadata": {
      "needs_background": "light"
     },
     "output_type": "display_data"
    }
   ],
   "source": [
    "# country_destination\n",
    "\n",
    "airbnb_df['booked'] = (airbnb_df['country_destination'] != 'NDF').astype(int)\n",
    "#airbnb_df['booked_Outside US'] = (airbnb_df['country_destination'] != 'NDF','US').astype(int)\n",
    "# test_df['booked']   = (test_df['country_destination'] != 'NDF').astype(int)\n",
    "\n",
    "\n",
    "#users$country = factor(ifelse(users$country_destination == 'US', 'US',\n",
    "#                              ifelse(users$country_destination == 'NDF', 'NDF', 'Outside US')))\n",
    "\n",
    "\n",
    "\n",
    "# Plot the frequency for every country_destination value\n",
    "fig, (axis1) = plt.subplots(1,1,figsize=(15,5))\n",
    "sns.countplot(x='country_destination', data=airbnb_df, palette=\"husl\", ax=axis1)\n",
    "#sns.countplot(x='booked', data=airbnb_df, palette=\"husl\", ax=axis1)\n",
    "\n",
    "# Plot the frequency for simple 3 troup country_destination value  ===>#2\n",
    "#fig, (axis1) = plt.subplots(1,1,figsize=(15,5))\n",
    "#sns.countplot(x='country_destination', data=airbnb_df, palette=\"husl\", ax=axis1)"
   ]
  },
  {
   "cell_type": "code",
   "execution_count": 6,
   "metadata": {},
   "outputs": [
    {
     "data": {
      "image/png": "[encoded data removed]",
      "text/plain": [
       "<Figure size 1080x576 with 2 Axes>"
      ]
     },
     "metadata": {
      "needs_background": "light"
     },
     "output_type": "display_data"
    }
   ],
   "source": [
    "# gender\n",
    "\n",
    "i = 0\n",
    "def get_gender(gender):\n",
    "    global i\n",
    "    if gender != 'FEMALE' and gender != 'MALE':\n",
    "        return 'FEMALE' if(i % 2) else 'MALE'\n",
    "    i = i + 1\n",
    "    return gender\n",
    "\n",
    "# replace all values other than 'FEMALE' and 'MALE'\n",
    "airbnb_df['gender'] = airbnb_df['gender'].apply(get_gender)\n",
    "#test_df['gender']   = test_df['gender'].apply(get_gender)\n",
    "\n",
    "# Plot\n",
    "fig, (axis1, axis2) = plt.subplots(2,1,sharex=True,figsize=(15,8))\n",
    "\n",
    "# frequency of country_destination for every gender\n",
    "sns.countplot(x=\"gender\",hue=\"country_destination\", data=airbnb_df[airbnb_df['country_destination'] != 'NDF'], palette=\"husl\", ax=axis1)\n",
    "\n",
    "# frequency of booked Vs no-booking users for every gender\n",
    "sns.countplot(x=\"gender\",hue=\"booked\", data=airbnb_df, palette=\"husl\", ax=axis2)\n",
    "\n",
    "# Map gender values to 1s and 0s\n",
    "airbnb_df[\"gender\"] = airbnb_df[\"gender\"].map({\"FEMALE\": 1, \"MALE\": 0})\n",
    "#test_df[\"gender\"]   = test_df[\"gender\"].map({\"FEMALE\": 1, \"MALE\": 0})\n",
    "\n",
    "# drop columns\n",
    "#airbnb_df.drop(['gender'], axis=1,inplace=True)\n",
    "#test_df.drop(['gender'], axis=1,inplace=True)"
   ]
  },
  {
   "cell_type": "code",
   "execution_count": 7,
   "metadata": {},
   "outputs": [
    {
     "name": "stderr",
     "output_type": "stream",
     "text": [
      "C:\\Users\\sophie\\Anaconda3\\lib\\site-packages\\ipykernel_launcher.py:4: SettingWithCopyWarning: \n",
      "A value is trying to be set on a copy of a slice from a DataFrame\n",
      "\n",
      "See the caveats in the documentation: http://pandas.pydata.org/pandas-docs/stable/indexing.html#indexing-view-versus-copy\n",
      "  after removing the cwd from sys.path.\n",
      "C:\\Users\\sophie\\Anaconda3\\lib\\site-packages\\ipykernel_launcher.py:22: SettingWithCopyWarning: \n",
      "A value is trying to be set on a copy of a slice from a DataFrame\n",
      "\n",
      "See the caveats in the documentation: http://pandas.pydata.org/pandas-docs/stable/indexing.html#indexing-view-versus-copy\n"
     ]
    },
    {
     "data": {
      "image/png": "[encoded data removed]",
      "text/plain": [
       "<Figure size 1080x720 with 2 Axes>"
      ]
     },
     "metadata": {
      "needs_background": "light"
     },
     "output_type": "display_data"
    }
   ],
   "source": [
    "# age\n",
    "\n",
    "# assign all age values > 100 to NaN, these NaN values will be replaced with real ages below\n",
    "airbnb_df[\"age\"][airbnb_df[\"age\"] > 100] = np.NaN\n",
    "#test_df[\"age\"][test_df[\"age\"] > 100]     = np.NaN\n",
    "\n",
    "# get average, std, and number of NaN values in airbnb_df\n",
    "average_age_airbnb   = airbnb_df[\"age\"].mean()\n",
    "std_age_airbnb       = airbnb_df[\"age\"].std()\n",
    "count_nan_age_airbnb = airbnb_df[\"age\"].isnull().sum()\n",
    "\n",
    "# get average, std, and number of NaN values in test_df\n",
    "#verage_age_test   = test_df[\"age\"].mean()\n",
    "#std_age_test       = test_df[\"age\"].std()\n",
    "#count_nan_age_test = test_df[\"age\"].isnull().sum()\n",
    "\n",
    "# generate random numbers between (mean - std) & (mean + std)\n",
    "rand_1 = np.random.randint(average_age_airbnb - std_age_airbnb, average_age_airbnb + std_age_airbnb, size = count_nan_age_airbnb)\n",
    "#rand_2 = np.random.randint(average_age_test - std_age_test, average_age_test + std_age_test, size = count_nan_age_test)\n",
    "\n",
    "# fill NaN values in Age column with random values generated\n",
    "airbnb_df[\"age\"][np.isnan(airbnb_df[\"age\"])] = rand_1\n",
    "#test_df[\"age\"][np.isnan(test_df[\"age\"])]     = rand_2\n",
    "\n",
    "# convert type to integer\n",
    "airbnb_df['age'] = airbnb_df['age'].astype(int)\n",
    "#test_df['age']   = test_df['age'].astype(int)\n",
    "\n",
    "# Plot\n",
    "fig, (axis1, axis2) = plt.subplots(2,1,figsize=(15,10))\n",
    "\n",
    "# frequency for age values(in case there was a booking)\n",
    "airbnb_df['age'][airbnb_df['country_destination'] != 'NDF'].hist(ax=axis1)\n",
    "\n",
    "# cut age values into ranges \n",
    "airbnb_df['age_range'] = pd.cut(airbnb_df[\"age\"], [0, 20, 40, 60, 80, 100])\n",
    "\n",
    "# frequency of country_destination for every age range\n",
    "sns.countplot(x=\"age_range\",hue=\"country_destination\", data=airbnb_df[airbnb_df['country_destination'] != 'NDF'], palette=\"husl\", ax=axis2)\n",
    "\n",
    "# drop age_range\n",
    "airbnb_df.drop(['age_range'], axis=1, inplace=True)\n",
    "\n",
    "# drop columns\n",
    "#airbnb_df.drop(['age'], axis=1,inplace=True)\n",
    "#test_df.drop(['age'], axis=1,inplace=True)"
   ]
  },
  {
   "cell_type": "code",
   "execution_count": 8,
   "metadata": {
    "scrolled": true
   },
   "outputs": [
    {
     "name": "stderr",
     "output_type": "stream",
     "text": [
      "C:\\Users\\sophie\\Anaconda3\\lib\\site-packages\\ipykernel_launcher.py:15: SettingWithCopyWarning: \n",
      "A value is trying to be set on a copy of a slice from a DataFrame\n",
      "\n",
      "See the caveats in the documentation: http://pandas.pydata.org/pandas-docs/stable/indexing.html#indexing-view-versus-copy\n",
      "  from ipykernel import kernelapp as app\n"
     ]
    }
   ],
   "source": [
    "# first_affiliate_tracked\n",
    "\n",
    "# fill NaN values randomly\n",
    "count_first_affiliate = 7    # len(np.unique(airbnb_df[\"first_affiliate_tracked\"].value_counts()))\n",
    "\n",
    "count_nan_department_airbnb = airbnb_df[\"first_affiliate_tracked\"].isnull().sum()\n",
    "#count_nan_department_test   = test_df[\"first_affiliate_tracked\"].isnull().sum()\n",
    "\n",
    "rand_1 = np.random.randint(0, count_first_affiliate, size = count_nan_department_airbnb)\n",
    "#rand_2 = np.random.randint(0, count_first_affiliate, size = count_nan_department_test)\n",
    "\n",
    "range_departments_airbnb = airbnb_df['first_affiliate_tracked'].value_counts()\n",
    "#range_departments_test   = test_df['first_affiliate_tracked'].value_counts()\n",
    "\n",
    "airbnb_df[\"first_affiliate_tracked\"][airbnb_df[\"first_affiliate_tracked\"] != airbnb_df[\"first_affiliate_tracked\"]] = range_departments_airbnb[rand_1]\n",
    "#test_df[\"first_affiliate_tracked\"][test_df[\"first_affiliate_tracked\"] != test_df[\"first_affiliate_tracked\"]]       = range_departments_test[rand_2]\n",
    "\n",
    "\n",
    "#print (first_affiliate_tracked.head())\n",
    "# drop columns\n",
    "airbnb_df.drop(['first_affiliate_tracked'], axis=1,inplace=True)\n",
    "#test_df.drop(['first_affiliate_tracked'], axis=1,inplace=True)"
   ]
  },
  {
   "cell_type": "code",
   "execution_count": 9,
   "metadata": {
    "scrolled": false
   },
   "outputs": [
    {
     "data": {
      "text/plain": [
       "<matplotlib.axes._subplots.AxesSubplot at 0x1f701e08c50>"
      ]
     },
     "execution_count": 9,
     "metadata": {},
     "output_type": "execute_result"
    },
    {
     "data": {
      "image/png": "[encoded data removed]",
      "text/plain": [
       "<Figure size 1080x504 with 1 Axes>"
      ]
     },
     "metadata": {
      "needs_background": "light"
     },
     "output_type": "display_data"
    }
   ],
   "source": [
    "fig, (axis1) = plt.subplots(1,sharex=True,figsize=(15,7))\n",
    "sns.countplot(x=\"signup_method\",hue=\"country_destination\", data=airbnb_df[airbnb_df['country_destination'] != 'NDF'], palette=\"husl\", ax=axis1)"
   ]
  },
  {
   "cell_type": "code",
   "execution_count": 10,
   "metadata": {},
   "outputs": [
    {
     "data": {
      "text/plain": [
       "<matplotlib.axes._subplots.AxesSubplot at 0x1f701c79940>"
      ]
     },
     "execution_count": 10,
     "metadata": {},
     "output_type": "execute_result"
    },
    {
     "data": {
      "image/png": "[encoded data removed]",
      "text/plain": [
       "<Figure size 1080x504 with 1 Axes>"
      ]
     },
     "metadata": {
      "needs_background": "light"
     },
     "output_type": "display_data"
    }
   ],
   "source": [
    "fig, (axis1) = plt.subplots(1,sharex=True,figsize=(15,7))\n",
    "sns.countplot(x=\"signup_app\",hue=\"country_destination\", data=airbnb_df[airbnb_df['country_destination'] != 'NDF'], palette=\"husl\", ax=axis1)"
   ]
  },
  {
   "cell_type": "code",
   "execution_count": 11,
   "metadata": {},
   "outputs": [
    {
     "data": {
      "text/plain": [
       "<matplotlib.axes._subplots.AxesSubplot at 0x1f7013546d8>"
      ]
     },
     "execution_count": 11,
     "metadata": {},
     "output_type": "execute_result"
    },
    {
     "data": {
      "image/png": "[encoded data removed]",
      "text/plain": [
       "<Figure size 1080x504 with 1 Axes>"
      ]
     },
     "metadata": {
      "needs_background": "light"
     },
     "output_type": "display_data"
    }
   ],
   "source": [
    "fig, (axis1) = plt.subplots(1,sharex=True,figsize=(15,7))\n",
    "sns.countplot(x=\"first_browser\",hue=\"country_destination\", data=airbnb_df[airbnb_df['country_destination'] == 'US'], palette=\"husl\", ax=axis1)"
   ]
  },
  {
   "cell_type": "code",
   "execution_count": 12,
   "metadata": {},
   "outputs": [
    {
     "name": "stdout",
     "output_type": "stream",
     "text": [
      "           id date_first_booking  gender  age  signup_method  signup_flow  \\\n",
      "0  gxn3p5htnn                NaN       0   33              0            0   \n",
      "1  820tgsjxq7                NaN       0   38              0            0   \n",
      "2  4ft3gnwmtx             8/2/10       1   56              1            1   \n",
      "3  bjjt8pjhuk             9/8/12       1   42              0            0   \n",
      "4  87mebub9p4            2/18/10       1   41              1            0   \n",
      "\n",
      "   language  affiliate_channel  affiliate_provider signup_app  \\\n",
      "0         1                  1                   1        Web   \n",
      "1         1                  0                   0        Web   \n",
      "2         1                  1                   1        Web   \n",
      "3         1                  1                   1        Web   \n",
      "4         1                  1                   1        Web   \n",
      "\n",
      "  first_device_type first_browser country_destination  booked  \n",
      "0       Mac Desktop        Chrome                 NDF       0  \n",
      "1       Mac Desktop        Chrome                 NDF       0  \n",
      "2   Windows Desktop            IE                  US       1  \n",
      "3       Mac Desktop       Firefox               other       1  \n",
      "4       Mac Desktop        Chrome                  US       1  \n"
     ]
    }
   ],
   "source": [
    "# signup_method\n",
    "airbnb_df[\"signup_method\"] = (airbnb_df[\"signup_method\"] == \"basic\").astype(int)\n",
    "#test_df[\"signup_method\"]   = (test_df[\"signup_method\"] == \"basic\").astype(int)\n",
    "\n",
    "# signup_flow\n",
    "airbnb_df[\"signup_flow\"] = (airbnb_df[\"signup_flow\"] == 3).astype(int)\n",
    "#test_df[\"signup_flow\"]   = (test_df[\"signup_flow\"] == 3).astype(int)\n",
    "\n",
    "# language\n",
    "airbnb_df[\"language\"] = (airbnb_df[\"language\"] == 'en').astype(int)\n",
    "#test_df[\"language\"]   = (test_df[\"language\"] == 'en').astype(int)\n",
    "\n",
    "# affiliate_channel\n",
    "airbnb_df[\"affiliate_channel\"] = (airbnb_df[\"affiliate_channel\"] == 'direct').astype(int)\n",
    "#test_df[\"affiliate_channel\"]   = (test_df[\"affiliate_channel\"] == 'direct').astype(int)\n",
    "\n",
    "# affiliate_provider\n",
    "airbnb_df[\"affiliate_provider\"] = (airbnb_df[\"affiliate_provider\"] == 'direct').astype(int)\n",
    "#test_df[\"affiliate_provider\"]   = (test_df[\"affiliate_provider\"] == 'direct').astype(int)\n",
    "\n",
    "print(airbnb_df.head())"
   ]
  },
  {
   "cell_type": "code",
   "execution_count": 13,
   "metadata": {},
   "outputs": [
    {
     "name": "stdout",
     "output_type": "stream",
     "text": [
      "           id  date_first_booking  gender  age  signup_method  signup_flow  \\\n",
      "0  gxn3p5htnn                1976       0   33              0            0   \n",
      "1  820tgsjxq7                1976       0   38              0            0   \n",
      "2  4ft3gnwmtx                1726       1   56              1            1   \n",
      "3  bjjt8pjhuk                1968       1   42              0            0   \n",
      "4  87mebub9p4                 686       1   41              1            0   \n",
      "\n",
      "   language  affiliate_channel  affiliate_provider  signup_app  \\\n",
      "0         1                  1                   1           2   \n",
      "1         1                  0                   0           2   \n",
      "2         1                  1                   1           2   \n",
      "3         1                  1                   1           2   \n",
      "4         1                  1                   1           2   \n",
      "\n",
      "   first_device_type  first_browser country_destination  booked  \n",
      "0                  3              8                 NDF       0  \n",
      "1                  3              8                 NDF       0  \n",
      "2                  6             21                  US       1  \n",
      "3                  3             17               other       1  \n",
      "4                  3              8                  US       1  \n"
     ]
    }
   ],
   "source": [
    "# There are some columns with non-numerical values(i.e. dtype='object'),\n",
    "# So, We will create a corresponding unique numerical value for each non-numerical value in a column of training and testing set.\n",
    "\n",
    "from sklearn import preprocessing\n",
    "\n",
    "for f in airbnb_df.columns:\n",
    "    if f == \"country_destination\" or f == \"id\": continue\n",
    "    if airbnb_df[f].dtype == 'object':\n",
    "        lbl = preprocessing.LabelEncoder()\n",
    "        lbl.fit(np.unique(list(airbnb_df[f].values))) #list(test_df[f].values)))\n",
    "        airbnb_df[f] = lbl.transform(list(airbnb_df[f].values))\n",
    "\n",
    "print(airbnb_df.head())\n",
    "#for f in test_df.columns:        \n",
    "#    if f == \"country_destination\" or f == \"id\": continue\n",
    "#    if test_df[f].dtype == 'object':\n",
    "#        lbl = preprocessing.LabelEncoder()\n",
    "#        lbl.fit(np.unique(list(airbnb_df[f].values) + list(test_df[f].values)))\n",
    "#        #airbnb_df[f] = lbl.transform(list(airbnb_df[f].values))\n",
    "#        test_df[f]   = lbl.transform(list(test_df[f].values))"
   ]
  },
  {
   "cell_type": "code",
   "execution_count": 14,
   "metadata": {},
   "outputs": [],
   "source": [
    "airbnb_df.to_csv('airbnb_clean train.csv', index=False)"
   ]
  },
  {
   "cell_type": "code",
   "execution_count": 15,
   "metadata": {},
   "outputs": [
    {
     "name": "stdout",
     "output_type": "stream",
     "text": [
      "<class 'pandas.core.frame.DataFrame'>\n",
      "RangeIndex: 213451 entries, 0 to 213450\n",
      "Data columns (total 14 columns):\n",
      "id                     213451 non-null object\n",
      "date_first_booking     213451 non-null int64\n",
      "gender                 213451 non-null int64\n",
      "age                    213451 non-null int64\n",
      "signup_method          213451 non-null int64\n",
      "signup_flow            213451 non-null int64\n",
      "language               213451 non-null int64\n",
      "affiliate_channel      213451 non-null int64\n",
      "affiliate_provider     213451 non-null int64\n",
      "signup_app             213451 non-null int64\n",
      "first_device_type      213451 non-null int64\n",
      "first_browser          213451 non-null int64\n",
      "country_destination    213451 non-null object\n",
      "booked                 213451 non-null int64\n",
      "dtypes: int64(12), object(2)\n",
      "memory usage: 22.8+ MB\n",
      "           id  date_first_booking  gender  age  signup_method  signup_flow  \\\n",
      "0  gxn3p5htnn                1976       0   33              0            0   \n",
      "1  820tgsjxq7                1976       0   38              0            0   \n",
      "2  4ft3gnwmtx                1726       1   56              1            1   \n",
      "3  bjjt8pjhuk                1968       1   42              0            0   \n",
      "4  87mebub9p4                 686       1   41              1            0   \n",
      "5  osr2jwljor                  61       1   32              1            0   \n",
      "6  lsw9q7uk0j                 147       1   46              1            0   \n",
      "7  0d01nltbrs                  22       1   47              1            0   \n",
      "8  a1vcnhxeij                1621       1   50              1            0   \n",
      "9  6uh8zyj2gn                 141       0   46              1            0   \n",
      "\n",
      "   language  affiliate_channel  affiliate_provider  signup_app  \\\n",
      "0         1                  1                   1           2   \n",
      "1         1                  0                   0           2   \n",
      "2         1                  1                   1           2   \n",
      "3         1                  1                   1           2   \n",
      "4         1                  1                   1           2   \n",
      "5         1                  0                   0           2   \n",
      "6         1                  0                   0           2   \n",
      "7         1                  1                   1           2   \n",
      "8         1                  0                   0           2   \n",
      "9         1                  0                   0           2   \n",
      "\n",
      "   first_device_type  first_browser country_destination  booked  \n",
      "0                  3              8                 NDF       0  \n",
      "1                  3              8                 NDF       0  \n",
      "2                  6             21                  US       1  \n",
      "3                  3             17               other       1  \n",
      "4                  3              8                  US       1  \n",
      "5                  3              8                  US       1  \n",
      "6                  3             41                  US       1  \n",
      "7                  3             41                  US       1  \n",
      "8                  3             41                  US       1  \n",
      "9                  3             17                  US       1  \n"
     ]
    }
   ],
   "source": [
    "airbnb_df_1= pd.read_csv('airbnb_clean train.csv')    \n",
    "\n",
    "airbnb_df_1.info()\n",
    "print(airbnb_df_1.head(10))"
   ]
  },
  {
   "cell_type": "code",
   "execution_count": 16,
   "metadata": {},
   "outputs": [
    {
     "name": "stdout",
     "output_type": "stream",
     "text": [
      "[[ 0 33  0  0  1  1  1  2  3  8]\n",
      " [ 0 38  0  0  1  0  0  2  3  8]\n",
      " [ 1 56  1  1  1  1  1  2  6 21]\n",
      " [ 1 42  0  0  1  1  1  2  3 17]\n",
      " [ 1 41  1  0  1  1  1  2  3  8]\n",
      " [ 1 32  1  0  1  0  0  2  3  8]\n",
      " [ 1 46  1  0  1  0  0  2  3 41]\n",
      " [ 1 47  1  0  1  1  1  2  3 41]\n",
      " [ 1 50  1  0  1  0  0  2  3 41]\n",
      " [ 0 46  1  0  1  0  0  2  3 17]]\n"
     ]
    }
   ],
   "source": [
    "# define training and testing sets\n",
    "\n",
    "y = airbnb_df_1[\"country_destination\"]\n",
    "#X = airbnb_df_1.drop([\"country_destination\", \"id\", 'booked'],axis=1,inplace=True)\n",
    "X = airbnb_df_1.iloc[:, [2,3,4,5,6,7,8,9,10, 11]].values\n",
    "\n",
    "print(X[0:10])"
   ]
  },
  {
   "cell_type": "code",
   "execution_count": 17,
   "metadata": {},
   "outputs": [
    {
     "name": "stdout",
     "output_type": "stream",
     "text": [
      "0      NDF\n",
      "1      NDF\n",
      "2       US\n",
      "3    other\n",
      "4       US\n",
      "5       US\n",
      "6       US\n",
      "7       US\n",
      "8       US\n",
      "9       US\n",
      "Name: country_destination, dtype: object\n",
      "The shape of y is(213451,)\n",
      "0    0\n",
      "1    0\n",
      "2    1\n",
      "3    2\n",
      "4    1\n",
      "5    1\n",
      "6    1\n",
      "7    1\n",
      "8    1\n",
      "9    1\n",
      "Name: country_destination, dtype: int64\n"
     ]
    }
   ],
   "source": [
    "# modify country_destination to numerical values\n",
    "\n",
    "country_num_dic = {'NDF': 0, 'US': 1, 'other': 2, 'FR': 3, 'IT': 4, 'GB': 5, 'ES': 6, 'CA': 7, 'DE': 8, 'NL': 9, 'AU': 10, 'PT': 11}\n",
    "num_country_dic = {y:x for x,y in country_num_dic.items()}\n",
    "print(y[0:10])\n",
    "y= y.map(country_num_dic)\n",
    "print(\"The shape of y is\" + str(y.shape))\n",
    "print(y[0:10])\n",
    "\n",
    "#airbnb_df_1.info()\n",
    "#print(airbnb_df_1.head(10))\n",
    "\n"
   ]
  },
  {
   "cell_type": "code",
   "execution_count": 18,
   "metadata": {},
   "outputs": [
    {
     "name": "stdout",
     "output_type": "stream",
     "text": [
      "[[ 0.95775281  0.69215875  0.6307385  -0.2081499   0.18561853  0.74130198\n",
      "   0.74367075 -0.018771   -0.92911099  1.59124286]\n",
      " [-1.04411075  0.19098681  0.6307385  -0.2081499   0.18561853  0.74130198\n",
      "   0.74367075 -0.018771    1.69442008  0.73786222]\n",
      " [-1.04411075 -1.31252902 -1.58544309 -0.2081499   0.18561853  0.74130198\n",
      "   0.74367075 -0.018771   -0.92911099 -0.75555391]\n",
      " [ 0.95775281 -0.91159147 -1.58544309 -0.2081499   0.18561853  0.74130198\n",
      "   0.74367075  2.11244296  1.69442008 -1.32447434]\n",
      " [-1.04411075  0.89262753 -1.58544309 -0.2081499   0.18561853  0.74130198\n",
      "   0.74367075 -0.018771    0.64500765 -0.75555391]\n",
      " [ 0.95775281 -0.10971636 -1.58544309 -0.2081499   0.18561853 -1.34897792\n",
      "  -1.34468111 -0.018771   -0.92911099 -0.11551843]\n",
      " [-1.04411075 -1.71346658 -1.58544309 -0.2081499  -5.38739325 -1.34897792\n",
      "  -1.34468111  2.11244296 -0.92911099  1.59124286]\n",
      " [ 0.95775281 -0.20995075  0.6307385  -0.2081499   0.18561853 -1.34897792\n",
      "  -1.34468111 -0.018771    0.64500765 -0.11551843]\n",
      " [ 0.95775281 -0.71112269  0.6307385   4.80422999  0.18561853  0.74130198\n",
      "   0.74367075 -0.018771   -0.92911099 -0.75555391]\n",
      " [ 0.95775281  0.09075242  0.6307385  -0.2081499   0.18561853  0.74130198\n",
      "   0.74367075 -0.018771   -0.92911099  1.59124286]]\n",
      "196195    1\n",
      "41384     0\n",
      "200194    2\n",
      "200206    1\n",
      "76031     3\n",
      "40872     1\n",
      "137710    6\n",
      "121709    0\n",
      "18786     1\n",
      "49310     5\n",
      "Name: country_destination, dtype: int64\n",
      "[[-1.04411075  0.69215875 -1.58544309 -0.2081499   0.18561853  0.74130198\n",
      "   0.74367075 -0.018771   -0.92911099 -0.75555391]\n",
      " [ 0.95775281 -0.10971636  0.6307385  -0.2081499   0.18561853 -1.34897792\n",
      "  -1.34468111 -0.018771    0.64500765 -0.75555391]\n",
      " [ 0.95775281 -0.41041952  0.6307385  -0.2081499   0.18561853  0.74130198\n",
      "   0.74367075 -0.018771   -0.92911099  1.59124286]\n",
      " [ 0.95775281  0.99286192  0.6307385  -0.2081499   0.18561853  0.74130198\n",
      "   0.74367075 -0.018771   -0.92911099  1.59124286]\n",
      " [ 0.95775281 -0.71112269  0.6307385  -0.2081499   0.18561853  0.74130198\n",
      "   0.74367075 -0.018771    0.64500765 -0.75555391]\n",
      " [ 0.95775281  0.89262753  0.6307385  -0.2081499   0.18561853  0.74130198\n",
      "   0.74367075 -0.018771    0.64500765 -0.75555391]\n",
      " [ 0.95775281  0.59192436  0.6307385  -0.2081499   0.18561853 -1.34897792\n",
      "  -1.34468111 -0.018771    0.64500765 -0.75555391]\n",
      " [ 0.95775281 -1.61323219  0.6307385  -0.2081499   0.18561853  0.74130198\n",
      "   0.74367075  2.11244296  1.69442008 -1.32447434]\n",
      " [-1.04411075  0.69215875  0.6307385  -0.2081499   0.18561853  0.74130198\n",
      "   0.74367075 -0.018771   -0.92911099  1.59124286]\n",
      " [ 0.95775281 -1.21229463  0.6307385  -0.2081499   0.18561853  0.74130198\n",
      "   0.74367075 -0.018771    1.69442008 -1.32447434]]\n",
      "76214     1\n",
      "197283    7\n",
      "65429     0\n",
      "151272    0\n",
      "137127    2\n",
      "80847     1\n",
      "193166    0\n",
      "117886    1\n",
      "61938     0\n",
      "198688    1\n",
      "Name: country_destination, dtype: int64\n"
     ]
    },
    {
     "name": "stderr",
     "output_type": "stream",
     "text": [
      "C:\\Users\\sophie\\Anaconda3\\lib\\site-packages\\sklearn\\utils\\validation.py:595: DataConversionWarning: Data with input dtype int64 was converted to float64 by StandardScaler.\n",
      "  warnings.warn(msg, DataConversionWarning)\n",
      "C:\\Users\\sophie\\Anaconda3\\lib\\site-packages\\sklearn\\utils\\validation.py:595: DataConversionWarning: Data with input dtype int64 was converted to float64 by StandardScaler.\n",
      "  warnings.warn(msg, DataConversionWarning)\n",
      "C:\\Users\\sophie\\Anaconda3\\lib\\site-packages\\sklearn\\utils\\validation.py:595: DataConversionWarning: Data with input dtype int64 was converted to float64 by StandardScaler.\n",
      "  warnings.warn(msg, DataConversionWarning)\n"
     ]
    }
   ],
   "source": [
    " \n",
    "# Splitting the dataset into the Training set and Test set\n",
    "from sklearn.model_selection import train_test_split\n",
    "X_train, X_test, y_train, y_test = train_test_split(X, y, test_size = 0.25, random_state = 0)\n",
    "\n",
    "# Feature Scaling\n",
    "from sklearn.preprocessing import StandardScaler\n",
    "sc = StandardScaler()\n",
    "X_train = sc.fit_transform(X_train)\n",
    "X_test = sc.transform(X_test)\n",
    "\n",
    "print(X_train[0:10])\n",
    "print(y_train[0:10])\n",
    "print(X_test[0:10])\n",
    "print(y_test[0:10])"
   ]
  },
  {
   "cell_type": "code",
   "execution_count": 19,
   "metadata": {},
   "outputs": [
    {
     "name": "stdout",
     "output_type": "stream",
     "text": [
      "[0 0 0 0 0 0 0 0 0 0]\n"
     ]
    }
   ],
   "source": [
    "# ====> INSERT YOUR CLASSIFIER CODE HERE <====\n",
    "# Fitting classifier to the Training set\n",
    "# Create your classifier here\n",
    "\n",
    "from sklearn.ensemble import RandomForestClassifier\n",
    "random_forest = RandomForestClassifier(n_estimators = 10, criterion='entropy', random_state = 0)\n",
    "random_forest.fit(X_train, y_train) \n",
    "# ====> INSERT YOUR CLASSIFIER CODE HERE <====\n",
    "\n",
    "# Predicting the Test set results\n",
    "#y_pred = random_forest.predict(X_test)\n",
    "y_pred = random_forest.predict(X_test)\n",
    "print(y_pred[0:10])"
   ]
  },
  {
   "cell_type": "code",
   "execution_count": 20,
   "metadata": {
    "scrolled": true
   },
   "outputs": [
    {
     "name": "stdout",
     "output_type": "stream",
     "text": [
      "Random Forests Predict Score is:0.62047748738194\n"
     ]
    }
   ],
   "source": [
    "# Random Forests\n",
    "\n",
    "score=random_forest.score(X_train, y_train)\n",
    "print(\"Random Forests Predict Score is:\"+str(score))\n",
    "\n",
    "\n",
    "#print(\"Y_test_predict shape is:\"+str(Y_pred.shape))\n",
    "#print(\"Y_test_predict is\"+str(Y_pred[0:100]))\n",
    "#print(\"the difference between Y_Train and Y_Pred is\"+str(Y_pred[0:100]-Y_train[0:100]))\n",
    "#Y_pred = random_forest.predict(X_test)"
   ]
  },
  {
   "cell_type": "code",
   "execution_count": 21,
   "metadata": {},
   "outputs": [
    {
     "name": "stdout",
     "output_type": "stream",
     "text": [
      "confusion matrix:\n",
      "[[28155  2805   158    55    38    25    13    13    13     9     6     1]\n",
      " [12871  2449    94    47    28    15     7     6     5     6     1     4]\n",
      " [ 2123   374    22     5     3     3     0     2     1     4     1     0]\n",
      " [  982   205     7     4     0     6     0     1     1     0     0     0]\n",
      " [  521   129     2     5     3     0     0     0     1     0     0     0]\n",
      " [  483   112     3     1     0     0     0     0     2     2     0     0]\n",
      " [  456    98     1     0     1     1     0     1     1     1     0     0]\n",
      " [  274    59     2     1     1     2     0     0     2     0     0     0]\n",
      " [  197    53     0     1     0     3     0     0     0     0     0     0]\n",
      " [  152    34     0     0     0     1     0     0     0     1     0     0]\n",
      " [  108    22     0     1     0     0     0     0     0     0     0     0]\n",
      " [   50     7     0     0     0     0     0     0     0     0     0     0]]\n"
     ]
    }
   ],
   "source": [
    "# Making the Confusion Matrix\n",
    "from sklearn.metrics import confusion_matrix\n",
    "cm = confusion_matrix(y_test, y_pred)\n",
    "print(\"confusion matrix:\")\n",
    "print(cm)"
   ]
  },
  {
   "cell_type": "code",
   "execution_count": 22,
   "metadata": {
    "scrolled": true
   },
   "outputs": [
    {
     "name": "stdout",
     "output_type": "stream",
     "text": [
      "('gender', 0.055263494555169934)\n",
      "('age', 0.6402151564353515)\n",
      "('signup_method', 0.050275264407166655)\n",
      "('signup_flow', 0.019784937697245895)\n",
      "('language', 0.021148104926054803)\n",
      "('affiliate_channel', 0.009614297763814224)\n",
      "('affiliate_provide', 0.010012006099172289)\n",
      "('signup_app', 0.04910588853124658)\n",
      "('first_device_type', 0.056344161283341354)\n",
      "('first_browser', 0.08823668830143676)\n"
     ]
    }
   ],
   "source": [
    "feat_labels = ['gender','age','signup_method', 'signup_flow', 'language','affiliate_channel','affiliate_provide', 'signup_app', 'first_device_type','first_browser']\n",
    "\n",
    "for feature in zip(feat_labels, random_forest.feature_importances_):\n",
    "    print(feature)\n"
   ]
  },
  {
   "cell_type": "code",
   "execution_count": 23,
   "metadata": {
    "scrolled": true
   },
   "outputs": [
    {
     "data": {
      "image/png": "[encoded data removed]",
      "text/plain": [
       "<Figure size 432x288 with 1 Axes>"
      ]
     },
     "metadata": {
      "needs_background": "light"
     },
     "output_type": "display_data"
    }
   ],
   "source": [
    "importances = random_forest.feature_importances_\n",
    "std = np.std([tree.feature_importances_ for tree in random_forest.estimators_],\n",
    "             axis=0)\n",
    "indices = np.argsort(importances)[::-1]\n",
    "plt.figure()\n",
    "plt.title(\"Feature importances\")\n",
    "plt.bar(range(X_train.shape[1]), importances[indices],\n",
    "       color=\"r\", yerr=std[indices], align=\"center\")\n",
    "plt.xticks(range(X_train.shape[1]), indices)\n",
    "plt.xlim([-1, X_train.shape[1]])\n",
    "plt.show()"
   ]
  },
  {
   "cell_type": "code",
   "execution_count": 24,
   "metadata": {},
   "outputs": [
    {
     "data": {
      "text/plain": [
       "<Figure size 432x288 with 0 Axes>"
      ]
     },
     "metadata": {},
     "output_type": "display_data"
    },
    {
     "data": {
      "image/png": "[encoded data removed]",
      "text/plain": [
       "<Figure size 432x288 with 1 Axes>"
      ]
     },
     "metadata": {
      "needs_background": "light"
     },
     "output_type": "display_data"
    }
   ],
   "source": [
    "model = xgb.XGBClassifier()\n",
    "model.fit(X, y)\n",
    "import matplotlib.pyplot as plt\n",
    "from matplotlib import pyplot\n",
    "from xgboost import plot_importance\n",
    "fig1=plt.gcf()\n",
    "plot_importance(model)\n",
    "plt.draw()\n",
    "fig1.savefig('xgboost.png', figsize=(50, 40), dpi=1000)"
   ]
  },
  {
   "cell_type": "code",
   "execution_count": null,
   "metadata": {},
   "outputs": [],
   "source": []
  }
 ],
 "metadata": {
  "kernelspec": {
   "display_name": "Python 3",
   "language": "python",
   "name": "python3"
  },
  "language_info": {
   "codemirror_mode": {
    "name": "ipython",
    "version": 3
   },
   "file_extension": ".py",
   "mimetype": "text/x-python",
   "name": "python",
   "nbconvert_exporter": "python",
   "pygments_lexer": "ipython3",
   "version": "3.7.1"
  }
 },
 "nbformat": 4,
 "nbformat_minor": 1
}
